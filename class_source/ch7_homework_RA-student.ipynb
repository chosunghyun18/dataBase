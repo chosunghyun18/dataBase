{
 "cells": [
  {
   "cell_type": "markdown",
   "metadata": {
    "id": "cGbn68fuu5u8"
   },
   "source": [
    "# Homework 1. Relational Algebra"
   ]
  },
  {
   "cell_type": "markdown",
   "metadata": {
    "id": "aHdzWXvR0qvw"
   },
   "source": [
    "1. Use Google Colabortory and do your homework.\n",
    "3. (In Google colaboratory) Before you submit your homework, restart kernel and run all. (Runtime-> restart and run all)\n",
    "4. Save (File->Save) the file\n",
    "5. Submit your homework (this file) in Google classroom\n",
    "6. **Don't forget to click \"제출\" button** (\"Submit\", \"완료로 표시\", 또는 \"제출\" 버턴을 누르지 않으면 제출된 것이 아님)\n",
    "7. No late homeworks will be accepted for any reason!"
   ]
  },
  {
   "cell_type": "markdown",
   "metadata": {
    "id": "0_wjQTZb0qvx"
   },
   "source": []
  },
  {
   "cell_type": "markdown",
   "metadata": {
    "id": "Fxbi-yUp0qvz"
   },
   "source": [
    "## CompanyDB Schema\n",
    "\n",
    "### Note that attribute names are capitalized\n",
    "```\n",
    "E(Fname,Minit,Lname,Ssn,Bdate,Address,Sex,Salary,Superssn,Dno)\n",
    "D(Dname,Dnumber,Mgrssn,Mgrstartdate)\n",
    "DL(Dnumber,Dlocation)\n",
    "P(Pname,Pnumber,Plocation,Dnum)\n",
    "WO(Essn,Pno,Hours)\n",
    "DE(Essn,Dependent_name,Sex,Bdate,Relationship)\n",
    "```"
   ]
  },
  {
   "cell_type": "markdown",
   "metadata": {
    "id": "pUDDFn7eu5u9"
   },
   "source": [
    "## First, run the following cell before you do your homework"
   ]
  },
  {
   "cell_type": "markdown",
   "metadata": {
    "id": "P1PmB-Q2u5u9"
   },
   "source": [
    "## DB setup"
   ]
  },
  {
   "cell_type": "code",
   "execution_count": 1,
   "metadata": {
    "ExecuteTime": {
     "end_time": "2022-10-20T06:45:49.273096Z",
     "start_time": "2022-10-20T06:45:48.672713Z"
    },
    "id": "9LZeWDA7u5u-"
   },
   "outputs": [],
   "source": [
    "EMPLOYEE_csv = 'Fname,Minit,Lname,Ssn,Bdate,Address,Sex,Salary,Superssn,Dno\\r\\nJohn,B,Smith,123456789,1965-01-09,731-Fondren-Houston-TX,M,30000.00,333445555,5\\r\\nFranklin,T,Wong,333445555,1955-12-08,638-Voss-Houston-TX,M,40000.00,888665555,5\\r\\nJoyce,A,English,453453453,1972-07-31,5631-Rice-Houston-TX,F,25000.00,333445555,5\\r\\nRamesh,K,Narayan,666884444,1962-09-15,975-Fire-Oak-Humble-TX,M,38000.00,333445555,5\\r\\nJames,E,Borg,888665555,1937-11-10,450-Stone-Houston-TX,M,55000.00,,1\\r\\nJennifer,S,Wallace,987654321,1941-06-20,291-Berry-Bellaire-TX,F,43000.00,888665555,4\\r\\nAhmad,V,Jabbar,987987987,1969-03-29,980-Dallas-Houston-TX,M,25000.00,987654321,4\\r\\nAlicia,J,Zelaya,999887777,1968-01-19,3321-Castle-Spring-TX,F,25000.00,987654321,4\\r\\n'\n",
    "DEPARTMENT_csv = 'Dname,Dnumber,Mgrssn,Mgrstartdate\\r\\nHeadquarters,1,888665555,1981-06-19\\r\\nAdministration,4,987654321,1995-01-01\\r\\nResearch,5,333445555,1988-05-22\\r\\n'\n",
    "DEPT_LOCATIONS_csv = 'Dnumber,Dlocation\\r\\n1,Houston\\r\\n4,Stafford\\r\\n5,Bellaire\\r\\n5,Houston\\r\\n5,Sugarland\\r\\n'\n",
    "PROJECT_csv = 'Pname,Pnumber,Plocation,Dnum\\r\\nProductX,1,Bellaire,5\\r\\nProductY,2,Sugarland,5\\r\\nProductZ,3,Houston,5\\r\\nComputerization,10,Stafford,4\\r\\nReorganization,20,Houston,1\\r\\nNewbenefits,30,Stafford,4\\r\\n'\n",
    "WORKS_ON_csv = 'Essn,Pno,Hours\\r\\n123456789,1,32.5\\r\\n123456789,2,7.5\\r\\n333445555,2,10.0\\r\\n333445555,3,10.0\\r\\n333445555,10,10.0\\r\\n333445555,20,10.0\\r\\n453453453,1,20.0\\r\\n453453453,2,20.0\\r\\n666884444,3,40.0\\r\\n888665555,20,\\r\\n987654321,20,15.0\\r\\n987654321,30,20.0\\r\\n987987987,10,35.0\\r\\n987987987,30,5.0\\r\\n999887777,10,10.0\\r\\n999887777,30,30.0\\r\\n'\n",
    "DEPENDENT_csv = 'Essn,Dependent_name,Sex,Bdate,Relationship\\r\\n123456789,Alice,F,1988-12-30,Daughter\\r\\n123456789,Elizabeth,F,1967-05-05,Spouse\\r\\n123456789,Michael,M,1988-01-04,Son\\r\\n333445555,Alice,F,1986-04-05,Daughter\\r\\n333445555,Joy,F,1958-05-03,Spouse\\r\\n333445555,Theodore,M,1983-10-25,Son\\r\\n987654321,Abner,M,1942-02-28,Spouse\\r\\n'\n",
    "\n",
    "# import packages\n",
    "\n",
    "import pandas as pd\n",
    "from io import StringIO \n",
    "import re\n",
    "\n",
    "# Tables\n",
    "EMPLOYEE = pd.read_csv(StringIO(EMPLOYEE_csv))\n",
    "DEPARTMENT = pd.read_csv(StringIO(DEPARTMENT_csv))\n",
    "DEPT_LOCATIONS = pd.read_csv(StringIO(DEPT_LOCATIONS_csv))\n",
    "PROJECT = pd.read_csv(StringIO(PROJECT_csv))\n",
    "WORKS_ON = pd.read_csv(StringIO(WORKS_ON_csv))\n",
    "DEPENDENT = pd.read_csv(StringIO(DEPENDENT_csv))\n",
    "\n",
    "# short_names for Tables\n",
    "E = EMPLOYEE\n",
    "D = DEPARTMENT\n",
    "DL = DEPT_LOCATIONS\n",
    "P = PROJECT\n",
    "WO = WORKS_ON\n",
    "DE = DEPENDENT\n",
    "\n",
    "def rename(R, C):\n",
    "    return R.rename(columns=C)\n",
    "\n",
    "def select(R, C):\n",
    "    # The following substitution may NOT work \n",
    "    # when column name is equal to a string value in C\n",
    "    tokens = re.split(r'(\\W+)', C)\n",
    "    new_tokens = [\"R.\" + token  if token in R.columns else token \\\n",
    "                  for token in tokens] \n",
    "    selected = eval(''.join(new_tokens))\n",
    "    return R[selected].reset_index(drop=True)\n",
    "\n",
    "def project(R, C):\n",
    "    return R[C].drop_duplicates().reset_index(drop=True)\n",
    "\n",
    "def union(R, S):\n",
    "    S.columns = R.columns\n",
    "    T = pd.concat([R, S], ignore_index=True)\n",
    "    T = T.drop_duplicates().reset_index(drop=True)\n",
    "    return T\n",
    "\n",
    "def intersect(R, S):\n",
    "    S.columns = R.columns\n",
    "    return R.merge(S).reset_index(drop=True)\n",
    "\n",
    "def minus(R, S):\n",
    "    S.columns = R.columns\n",
    "    return pd.concat([R, S, S]).drop_duplicates(keep=False).reset_index(drop=True)\n",
    "\n",
    "def product(R, S):\n",
    "    \"\"\"Determine Cartesian product of two data frames.\"\"\"\n",
    "    key = 'key'\n",
    "    while key in R.columns or key in S.columns:\n",
    "        key = '_' + key\n",
    "    key_d = {key: 0}\n",
    "    return pd.merge(R.assign(**key_d), S.assign(**key_d), on=key)\\\n",
    "           .drop(key, axis=1).reset_index(drop=True)\n",
    "\n",
    "def natural_join(R, S):\n",
    "    return pd.merge(R, S).reset_index(drop=True)\n",
    "\n",
    "def natural_join2(R, S, keys_R, keys_S):\n",
    "    return pd.merge(R, S, left_on=keys_R, right_on=keys_S)\\\n",
    "           .drop(keys_S, axis=1).reset_index(drop=True)\n",
    "\n",
    "def division(R, S):\n",
    "    Z = set(R.columns)\n",
    "    X = set(S.columns)\n",
    "    assert X <= Z\n",
    "    Y = pd.Index(Z - X)\n",
    "    T1 = project(R, Y)\n",
    "    T2 = project(minus(product(T1, S), R), Y)\n",
    "    T = minus(T1, T2)\n",
    "    return T.reset_index(drop=True)"
   ]
  },
  {
   "cell_type": "markdown",
   "metadata": {
    "id": "kxveAyi50qwC"
   },
   "source": [
    "## <font color='red'>Query Statement에 나타나지 않은 상수(값)을 사용하면 무조건 0점 처리됨. 예를 들어, Query 1에서 \"Research\"라는 상수값만 나타나야 함</font>\n",
    "\n",
    "## 각 질의당 10점"
   ]
  },
  {
   "cell_type": "markdown",
   "metadata": {
    "id": "GXpM_g_Z0qwD"
   },
   "source": [
    "### Query 1: Retrieve the last name, first name, and address of employees who work for the \"Research\" department. (Use cartesian product. Do NOT use join)"
   ]
  },
  {
   "cell_type": "markdown",
   "metadata": {
    "id": "6Iryf2SzDAUc"
   },
   "source": []
  },
  {
   "cell_type": "code",
   "execution_count": 14,
   "metadata": {
    "ExecuteTime": {
     "end_time": "2022-10-20T06:48:25.630840Z",
     "start_time": "2022-10-20T06:48:25.609357Z"
    },
    "colab": {
     "base_uri": "https://localhost:8080/",
     "height": 282
    },
    "executionInfo": {
     "elapsed": 1793,
     "status": "ok",
     "timestamp": 1602780478331,
     "user": {
      "displayName": "김예은",
      "photoUrl": "",
      "userId": "10085060430319798632"
     },
     "user_tz": -540
    },
    "id": "pfwH3lHZ0qwD",
    "outputId": "e425b951-e820-41cc-b84e-700faf527994"
   },
   "outputs": [
    {
     "data": {
      "text/html": [
       "<div>\n",
       "<style scoped>\n",
       "    .dataframe tbody tr th:only-of-type {\n",
       "        vertical-align: middle;\n",
       "    }\n",
       "\n",
       "    .dataframe tbody tr th {\n",
       "        vertical-align: top;\n",
       "    }\n",
       "\n",
       "    .dataframe thead th {\n",
       "        text-align: right;\n",
       "    }\n",
       "</style>\n",
       "<table border=\"1\" class=\"dataframe\">\n",
       "  <thead>\n",
       "    <tr style=\"text-align: right;\">\n",
       "      <th></th>\n",
       "      <th>Lname</th>\n",
       "      <th>Fname</th>\n",
       "      <th>Address</th>\n",
       "    </tr>\n",
       "  </thead>\n",
       "  <tbody>\n",
       "    <tr>\n",
       "      <th>0</th>\n",
       "      <td>Smith</td>\n",
       "      <td>John</td>\n",
       "      <td>731-Fondren-Houston-TX</td>\n",
       "    </tr>\n",
       "    <tr>\n",
       "      <th>1</th>\n",
       "      <td>Wong</td>\n",
       "      <td>Franklin</td>\n",
       "      <td>638-Voss-Houston-TX</td>\n",
       "    </tr>\n",
       "    <tr>\n",
       "      <th>2</th>\n",
       "      <td>English</td>\n",
       "      <td>Joyce</td>\n",
       "      <td>5631-Rice-Houston-TX</td>\n",
       "    </tr>\n",
       "    <tr>\n",
       "      <th>3</th>\n",
       "      <td>Narayan</td>\n",
       "      <td>Ramesh</td>\n",
       "      <td>975-Fire-Oak-Humble-TX</td>\n",
       "    </tr>\n",
       "    <tr>\n",
       "      <th>4</th>\n",
       "      <td>Borg</td>\n",
       "      <td>James</td>\n",
       "      <td>450-Stone-Houston-TX</td>\n",
       "    </tr>\n",
       "    <tr>\n",
       "      <th>5</th>\n",
       "      <td>Wallace</td>\n",
       "      <td>Jennifer</td>\n",
       "      <td>291-Berry-Bellaire-TX</td>\n",
       "    </tr>\n",
       "    <tr>\n",
       "      <th>6</th>\n",
       "      <td>Jabbar</td>\n",
       "      <td>Ahmad</td>\n",
       "      <td>980-Dallas-Houston-TX</td>\n",
       "    </tr>\n",
       "    <tr>\n",
       "      <th>7</th>\n",
       "      <td>Zelaya</td>\n",
       "      <td>Alicia</td>\n",
       "      <td>3321-Castle-Spring-TX</td>\n",
       "    </tr>\n",
       "  </tbody>\n",
       "</table>\n",
       "</div>"
      ],
      "text/plain": [
       "     Lname     Fname                 Address\n",
       "0    Smith      John  731-Fondren-Houston-TX\n",
       "1     Wong  Franklin     638-Voss-Houston-TX\n",
       "2  English     Joyce    5631-Rice-Houston-TX\n",
       "3  Narayan    Ramesh  975-Fire-Oak-Humble-TX\n",
       "4     Borg     James    450-Stone-Houston-TX\n",
       "5  Wallace  Jennifer   291-Berry-Bellaire-TX\n",
       "6   Jabbar     Ahmad   980-Dallas-Houston-TX\n",
       "7   Zelaya    Alicia   3321-Castle-Spring-TX"
      ]
     },
     "execution_count": 14,
     "metadata": {},
     "output_type": "execute_result"
    }
   ],
   "source": [
    "# YOUR CODE HERE      0\n",
    "At = [\"Lname\", \"Fname\", \"Address\"]\n",
    "pt = product(E, D) # 14 column 10+4\n",
    "T = project(select(product(E, D), \"Dname == 'Research'\"),At)\n",
    "T"
   ]
  },
  {
   "cell_type": "markdown",
   "metadata": {
    "id": "Zu_8_d_f0qwH"
   },
   "source": [
    "### Query 2: Retrieve the last name, first name, and address of employees who work for the \"Research\" department. (Do NOT use cartesian product. Use natural join)"
   ]
  },
  {
   "cell_type": "code",
   "execution_count": 3,
   "metadata": {
    "ExecuteTime": {
     "end_time": "2022-10-20T06:45:49.317041Z",
     "start_time": "2022-10-20T06:45:49.303839Z"
    },
    "colab": {
     "base_uri": "https://localhost:8080/",
     "height": 164
    },
    "executionInfo": {
     "elapsed": 1777,
     "status": "ok",
     "timestamp": 1602780478332,
     "user": {
      "displayName": "김예은",
      "photoUrl": "",
      "userId": "10085060430319798632"
     },
     "user_tz": -540
    },
    "id": "5y4T2i3Z0qwI",
    "outputId": "8f80d142-5336-48e1-9f5a-691e665b560a"
   },
   "outputs": [
    {
     "data": {
      "text/html": [
       "<div>\n",
       "<style scoped>\n",
       "    .dataframe tbody tr th:only-of-type {\n",
       "        vertical-align: middle;\n",
       "    }\n",
       "\n",
       "    .dataframe tbody tr th {\n",
       "        vertical-align: top;\n",
       "    }\n",
       "\n",
       "    .dataframe thead th {\n",
       "        text-align: right;\n",
       "    }\n",
       "</style>\n",
       "<table border=\"1\" class=\"dataframe\">\n",
       "  <thead>\n",
       "    <tr style=\"text-align: right;\">\n",
       "      <th></th>\n",
       "      <th>Lname</th>\n",
       "      <th>Fname</th>\n",
       "      <th>Address</th>\n",
       "    </tr>\n",
       "  </thead>\n",
       "  <tbody>\n",
       "    <tr>\n",
       "      <th>0</th>\n",
       "      <td>Smith</td>\n",
       "      <td>John</td>\n",
       "      <td>731-Fondren-Houston-TX</td>\n",
       "    </tr>\n",
       "    <tr>\n",
       "      <th>1</th>\n",
       "      <td>Wong</td>\n",
       "      <td>Franklin</td>\n",
       "      <td>638-Voss-Houston-TX</td>\n",
       "    </tr>\n",
       "    <tr>\n",
       "      <th>2</th>\n",
       "      <td>English</td>\n",
       "      <td>Joyce</td>\n",
       "      <td>5631-Rice-Houston-TX</td>\n",
       "    </tr>\n",
       "    <tr>\n",
       "      <th>3</th>\n",
       "      <td>Narayan</td>\n",
       "      <td>Ramesh</td>\n",
       "      <td>975-Fire-Oak-Humble-TX</td>\n",
       "    </tr>\n",
       "  </tbody>\n",
       "</table>\n",
       "</div>"
      ],
      "text/plain": [
       "     Lname     Fname                 Address\n",
       "0    Smith      John  731-Fondren-Houston-TX\n",
       "1     Wong  Franklin     638-Voss-Houston-TX\n",
       "2  English     Joyce    5631-Rice-Houston-TX\n",
       "3  Narayan    Ramesh  975-Fire-Oak-Humble-TX"
      ]
     },
     "execution_count": 3,
     "metadata": {},
     "output_type": "execute_result"
    }
   ],
   "source": [
    "# YOUR CODE HERE      10\n",
    "At = [\"Lname\", \"Fname\", \"Address\"]\n",
    "D = rename(D, {'Dnumber':'Dno'})\n",
    "T = natural_join(E, D)\n",
    "S = select(T, \"Dname == 'Research'\")\n",
    "R = project(S, At)\n",
    "R"
   ]
  },
  {
   "cell_type": "markdown",
   "metadata": {
    "id": "04RUgYqC0qwO"
   },
   "source": [
    "### Query 3: For every project located in \"Stafford\", list the project name, the controlling department name, and the department manager's last name, first name. (Use natural_join2, No cartesian products and natural joins are allowed)"
   ]
  },
  {
   "cell_type": "code",
   "execution_count": 4,
   "metadata": {
    "ExecuteTime": {
     "end_time": "2022-10-20T06:45:49.334089Z",
     "start_time": "2022-10-20T06:45:49.318930Z"
    },
    "colab": {
     "base_uri": "https://localhost:8080/",
     "height": 106
    },
    "executionInfo": {
     "elapsed": 1763,
     "status": "ok",
     "timestamp": 1602780478333,
     "user": {
      "displayName": "김예은",
      "photoUrl": "",
      "userId": "10085060430319798632"
     },
     "user_tz": -540
    },
    "id": "boR2UahP0qwP",
    "outputId": "027a4ab7-b1eb-4ac5-e9a5-d7deed813a21"
   },
   "outputs": [
    {
     "data": {
      "text/html": [
       "<div>\n",
       "<style scoped>\n",
       "    .dataframe tbody tr th:only-of-type {\n",
       "        vertical-align: middle;\n",
       "    }\n",
       "\n",
       "    .dataframe tbody tr th {\n",
       "        vertical-align: top;\n",
       "    }\n",
       "\n",
       "    .dataframe thead th {\n",
       "        text-align: right;\n",
       "    }\n",
       "</style>\n",
       "<table border=\"1\" class=\"dataframe\">\n",
       "  <thead>\n",
       "    <tr style=\"text-align: right;\">\n",
       "      <th></th>\n",
       "      <th>Pname</th>\n",
       "      <th>Dname</th>\n",
       "      <th>Lname</th>\n",
       "      <th>Fname</th>\n",
       "    </tr>\n",
       "  </thead>\n",
       "  <tbody>\n",
       "    <tr>\n",
       "      <th>0</th>\n",
       "      <td>Computerization</td>\n",
       "      <td>Administration</td>\n",
       "      <td>Wallace</td>\n",
       "      <td>Jennifer</td>\n",
       "    </tr>\n",
       "    <tr>\n",
       "      <th>1</th>\n",
       "      <td>Newbenefits</td>\n",
       "      <td>Administration</td>\n",
       "      <td>Wallace</td>\n",
       "      <td>Jennifer</td>\n",
       "    </tr>\n",
       "  </tbody>\n",
       "</table>\n",
       "</div>"
      ],
      "text/plain": [
       "             Pname           Dname    Lname     Fname\n",
       "0  Computerization  Administration  Wallace  Jennifer\n",
       "1      Newbenefits  Administration  Wallace  Jennifer"
      ]
     },
     "execution_count": 4,
     "metadata": {},
     "output_type": "execute_result"
    }
   ],
   "source": [
    "# YOUR CODE HERE      10\n",
    "L = natural_join2(P, D, ['Dnum'], ['Dno'])\n",
    "S = select(L, \"Plocation == 'Stafford'\")\n",
    "K = natural_join2(E, S, ['Ssn'], ['Mgrssn'])\n",
    "R = project(K, ['Pname', 'Dname', 'Lname', 'Fname'])\n",
    "R"
   ]
  },
  {
   "cell_type": "markdown",
   "metadata": {
    "id": "vQ5UhKZY0qwU"
   },
   "source": [
    "### Query 4: Find the last name, first name of employees who work on all the projects controlled by department number 4."
   ]
  },
  {
   "cell_type": "code",
   "execution_count": 5,
   "metadata": {
    "ExecuteTime": {
     "end_time": "2022-10-20T06:45:49.354430Z",
     "start_time": "2022-10-20T06:45:49.335819Z"
    },
    "colab": {
     "base_uri": "https://localhost:8080/",
     "height": 164
    },
    "executionInfo": {
     "elapsed": 1750,
     "status": "ok",
     "timestamp": 1602780478335,
     "user": {
      "displayName": "김예은",
      "photoUrl": "",
      "userId": "10085060430319798632"
     },
     "user_tz": -540
    },
    "id": "SoYd3Gsk0qwW",
    "outputId": "c8f00108-72df-4768-bdb7-e0d8c381a77c"
   },
   "outputs": [
    {
     "data": {
      "text/html": [
       "<div>\n",
       "<style scoped>\n",
       "    .dataframe tbody tr th:only-of-type {\n",
       "        vertical-align: middle;\n",
       "    }\n",
       "\n",
       "    .dataframe tbody tr th {\n",
       "        vertical-align: top;\n",
       "    }\n",
       "\n",
       "    .dataframe thead th {\n",
       "        text-align: right;\n",
       "    }\n",
       "</style>\n",
       "<table border=\"1\" class=\"dataframe\">\n",
       "  <thead>\n",
       "    <tr style=\"text-align: right;\">\n",
       "      <th></th>\n",
       "      <th>Lname</th>\n",
       "      <th>Fname</th>\n",
       "    </tr>\n",
       "  </thead>\n",
       "  <tbody>\n",
       "    <tr>\n",
       "      <th>0</th>\n",
       "      <td>Wong</td>\n",
       "      <td>Franklin</td>\n",
       "    </tr>\n",
       "    <tr>\n",
       "      <th>1</th>\n",
       "      <td>Wallace</td>\n",
       "      <td>Jennifer</td>\n",
       "    </tr>\n",
       "    <tr>\n",
       "      <th>2</th>\n",
       "      <td>Jabbar</td>\n",
       "      <td>Ahmad</td>\n",
       "    </tr>\n",
       "    <tr>\n",
       "      <th>3</th>\n",
       "      <td>Zelaya</td>\n",
       "      <td>Alicia</td>\n",
       "    </tr>\n",
       "  </tbody>\n",
       "</table>\n",
       "</div>"
      ],
      "text/plain": [
       "     Lname     Fname\n",
       "0     Wong  Franklin\n",
       "1  Wallace  Jennifer\n",
       "2   Jabbar     Ahmad\n",
       "3   Zelaya    Alicia"
      ]
     },
     "execution_count": 5,
     "metadata": {},
     "output_type": "execute_result"
    }
   ],
   "source": [
    "# YOUR CODE HERE      0\n",
    "At = [\"Lname\", \"Fname\"]\n",
    "T = product(product(WO, P), E)\n",
    "S = select(select(select(T, \"Pno==Pnumber\"), \"Dnum==4\"), \"Essn==Ssn\")\n",
    "R = project(S, At)\n",
    "R"
   ]
  },
  {
   "cell_type": "markdown",
   "metadata": {
    "id": "-VwS3-Te0qwg"
   },
   "source": [
    "### Query 5: Make a list of project names for projects that involve an employee whose last name is \"Wallace\", either as a worker or as a manager of the department that controls the project."
   ]
  },
  {
   "cell_type": "code",
   "execution_count": 6,
   "metadata": {
    "ExecuteTime": {
     "end_time": "2022-10-20T06:45:49.389166Z",
     "start_time": "2022-10-20T06:45:49.355864Z"
    },
    "colab": {
     "base_uri": "https://localhost:8080/",
     "height": 88
    },
    "executionInfo": {
     "elapsed": 1732,
     "status": "ok",
     "timestamp": 1602780478336,
     "user": {
      "displayName": "김예은",
      "photoUrl": "",
      "userId": "10085060430319798632"
     },
     "user_tz": -540
    },
    "id": "1EOwBhiq0qwj",
    "outputId": "31847405-c55d-4e4d-b974-fdf4d3e30099"
   },
   "outputs": [
    {
     "data": {
      "text/plain": [
       "0     Reorganization\n",
       "1        Newbenefits\n",
       "2    Computerization\n",
       "Name: Pname, dtype: object"
      ]
     },
     "execution_count": 6,
     "metadata": {},
     "output_type": "execute_result"
    }
   ],
   "source": [
    "# YOUR CODE HERE      10\n",
    "Em = natural_join2(project(E, 'Superssn'), E, ['Superssn'], ['Ssn'])\n",
    "Dm = natural_join2(project(D, 'Mgrssn'), E, ['Mgrssn'], ['Ssn'])\n",
    "Sp = union(Em, Dm)\n",
    "Pn = project(select(Sp, \"Lname == 'Wallace'\"), 'Superssn_x')\n",
    "Dn = project(select(Sp, \"Lname == 'Wallace'\"), 'Dno')\n",
    "Ep = project(natural_join2(Pn, WO, ['Superssn_x'], ['Essn']), 'Pno')\n",
    "Dp = project(natural_join2(Dn, P, ['Dno'], ['Dnum']), 'Pnumber')\n",
    "R1 = project(natural_join2(Ep, P, ['Pno'], ['Pnumber']), ['Pname', 'Pno'])\n",
    "R2 = project(natural_join(Dp, P), ['Pname', 'Pnumber'])\n",
    "R = project(union(R1, R2), 'Pname')\n",
    "R"
   ]
  },
  {
   "cell_type": "markdown",
   "metadata": {
    "id": "sTaJcJBM0qwn"
   },
   "source": [
    "### Query 6: List the last name, first name of all employees with two or more dependents. (Do NOT use aggregate operator)"
   ]
  },
  {
   "cell_type": "code",
   "execution_count": 7,
   "metadata": {
    "ExecuteTime": {
     "end_time": "2022-10-20T06:45:49.407579Z",
     "start_time": "2022-10-20T06:45:49.391029Z"
    },
    "colab": {
     "base_uri": "https://localhost:8080/",
     "height": 106
    },
    "executionInfo": {
     "elapsed": 1711,
     "status": "ok",
     "timestamp": 1602780478337,
     "user": {
      "displayName": "김예은",
      "photoUrl": "",
      "userId": "10085060430319798632"
     },
     "user_tz": -540
    },
    "id": "FoVhDxDK0qwn",
    "outputId": "debcffcf-048e-4367-e4b7-fdb14f0d5c28"
   },
   "outputs": [
    {
     "data": {
      "text/html": [
       "<div>\n",
       "<style scoped>\n",
       "    .dataframe tbody tr th:only-of-type {\n",
       "        vertical-align: middle;\n",
       "    }\n",
       "\n",
       "    .dataframe tbody tr th {\n",
       "        vertical-align: top;\n",
       "    }\n",
       "\n",
       "    .dataframe thead th {\n",
       "        text-align: right;\n",
       "    }\n",
       "</style>\n",
       "<table border=\"1\" class=\"dataframe\">\n",
       "  <thead>\n",
       "    <tr style=\"text-align: right;\">\n",
       "      <th></th>\n",
       "      <th>Lname</th>\n",
       "      <th>Fname</th>\n",
       "    </tr>\n",
       "  </thead>\n",
       "  <tbody>\n",
       "    <tr>\n",
       "      <th>0</th>\n",
       "      <td>Smith</td>\n",
       "      <td>John</td>\n",
       "    </tr>\n",
       "    <tr>\n",
       "      <th>1</th>\n",
       "      <td>Wong</td>\n",
       "      <td>Franklin</td>\n",
       "    </tr>\n",
       "  </tbody>\n",
       "</table>\n",
       "</div>"
      ],
      "text/plain": [
       "   Lname     Fname\n",
       "0  Smith      John\n",
       "1   Wong  Franklin"
      ]
     },
     "execution_count": 7,
     "metadata": {},
     "output_type": "execute_result"
    }
   ],
   "source": [
    "# YOUR CODE HERE      10\n",
    "DT = product(DE, DE)\n",
    "R = select(DT, 'Essn_x == Essn_y')\n",
    "RR = project(select(R, 'Dependent_name_x != Dependent_name_y'), ['Essn_x'])\n",
    "Re = project(natural_join2(RR, E, ['Essn_x'], ['Ssn']), ['Lname', 'Fname'])\n",
    "Re"
   ]
  },
  {
   "cell_type": "markdown",
   "metadata": {
    "id": "GJvDKSDg0qwu"
   },
   "source": [
    "### Query 7: Retrieve the last name, first name of employees who have no dependents."
   ]
  },
  {
   "cell_type": "code",
   "execution_count": 8,
   "metadata": {
    "ExecuteTime": {
     "end_time": "2022-10-20T06:45:49.426725Z",
     "start_time": "2022-10-20T06:45:49.410764Z"
    },
    "colab": {
     "base_uri": "https://localhost:8080/",
     "height": 194
    },
    "executionInfo": {
     "elapsed": 1699,
     "status": "ok",
     "timestamp": 1602780478338,
     "user": {
      "displayName": "김예은",
      "photoUrl": "",
      "userId": "10085060430319798632"
     },
     "user_tz": -540
    },
    "id": "KzYu4kik0qwu",
    "outputId": "70981338-4324-491f-be0a-d8c8b776d3b9"
   },
   "outputs": [
    {
     "data": {
      "text/html": [
       "<div>\n",
       "<style scoped>\n",
       "    .dataframe tbody tr th:only-of-type {\n",
       "        vertical-align: middle;\n",
       "    }\n",
       "\n",
       "    .dataframe tbody tr th {\n",
       "        vertical-align: top;\n",
       "    }\n",
       "\n",
       "    .dataframe thead th {\n",
       "        text-align: right;\n",
       "    }\n",
       "</style>\n",
       "<table border=\"1\" class=\"dataframe\">\n",
       "  <thead>\n",
       "    <tr style=\"text-align: right;\">\n",
       "      <th></th>\n",
       "      <th>Lname</th>\n",
       "      <th>Fname</th>\n",
       "    </tr>\n",
       "  </thead>\n",
       "  <tbody>\n",
       "    <tr>\n",
       "      <th>0</th>\n",
       "      <td>English</td>\n",
       "      <td>Joyce</td>\n",
       "    </tr>\n",
       "    <tr>\n",
       "      <th>1</th>\n",
       "      <td>Narayan</td>\n",
       "      <td>Ramesh</td>\n",
       "    </tr>\n",
       "    <tr>\n",
       "      <th>2</th>\n",
       "      <td>Borg</td>\n",
       "      <td>James</td>\n",
       "    </tr>\n",
       "    <tr>\n",
       "      <th>3</th>\n",
       "      <td>Jabbar</td>\n",
       "      <td>Ahmad</td>\n",
       "    </tr>\n",
       "    <tr>\n",
       "      <th>4</th>\n",
       "      <td>Zelaya</td>\n",
       "      <td>Alicia</td>\n",
       "    </tr>\n",
       "  </tbody>\n",
       "</table>\n",
       "</div>"
      ],
      "text/plain": [
       "     Lname   Fname\n",
       "0  English   Joyce\n",
       "1  Narayan  Ramesh\n",
       "2     Borg   James\n",
       "3   Jabbar   Ahmad\n",
       "4   Zelaya  Alicia"
      ]
     },
     "execution_count": 8,
     "metadata": {},
     "output_type": "execute_result"
    }
   ],
   "source": [
    "# YOUR CODE HERE        10\n",
    "HD = project(natural_join2(project(DE, 'Essn'), E, ['Essn'], ['Ssn']), ['Lname', 'Fname', 'Essn'])\n",
    "AE = project(E, ['Lname', 'Fname', 'Ssn'])\n",
    "R = project(minus(AE, HD), ['Lname', 'Fname'])\n",
    "R"
   ]
  },
  {
   "cell_type": "markdown",
   "metadata": {
    "id": "l2q_SUGX0qwz"
   },
   "source": [
    "### Query 8: List the last name, first name of managers who have at least one dependent."
   ]
  },
  {
   "cell_type": "code",
   "execution_count": 9,
   "metadata": {
    "ExecuteTime": {
     "end_time": "2022-10-20T06:45:49.451159Z",
     "start_time": "2022-10-20T06:45:49.429501Z"
    },
    "colab": {
     "base_uri": "https://localhost:8080/",
     "height": 106
    },
    "executionInfo": {
     "elapsed": 1684,
     "status": "ok",
     "timestamp": 1602780478339,
     "user": {
      "displayName": "김예은",
      "photoUrl": "",
      "userId": "10085060430319798632"
     },
     "user_tz": -540
    },
    "id": "KvnANVsn0qw1",
    "outputId": "d35fb1ef-34bd-43e3-96d6-dbed0f09a360"
   },
   "outputs": [
    {
     "data": {
      "text/html": [
       "<div>\n",
       "<style scoped>\n",
       "    .dataframe tbody tr th:only-of-type {\n",
       "        vertical-align: middle;\n",
       "    }\n",
       "\n",
       "    .dataframe tbody tr th {\n",
       "        vertical-align: top;\n",
       "    }\n",
       "\n",
       "    .dataframe thead th {\n",
       "        text-align: right;\n",
       "    }\n",
       "</style>\n",
       "<table border=\"1\" class=\"dataframe\">\n",
       "  <thead>\n",
       "    <tr style=\"text-align: right;\">\n",
       "      <th></th>\n",
       "      <th>Lname</th>\n",
       "      <th>Fname</th>\n",
       "      <th>Ssn</th>\n",
       "    </tr>\n",
       "  </thead>\n",
       "  <tbody>\n",
       "    <tr>\n",
       "      <th>0</th>\n",
       "      <td>Wong</td>\n",
       "      <td>Franklin</td>\n",
       "      <td>333445555</td>\n",
       "    </tr>\n",
       "    <tr>\n",
       "      <th>1</th>\n",
       "      <td>Wallace</td>\n",
       "      <td>Jennifer</td>\n",
       "      <td>987654321</td>\n",
       "    </tr>\n",
       "  </tbody>\n",
       "</table>\n",
       "</div>"
      ],
      "text/plain": [
       "     Lname     Fname        Ssn\n",
       "0     Wong  Franklin  333445555\n",
       "1  Wallace  Jennifer  987654321"
      ]
     },
     "execution_count": 9,
     "metadata": {},
     "output_type": "execute_result"
    }
   ],
   "source": [
    "# YOUR CODE HERE      5 projection\n",
    "HD = project(natural_join2(E, project(DE, ['Essn']), ['Ssn'], ['Essn']), ['Lname', 'Fname', 'Ssn'])\n",
    "Ms = project(E, ['Superssn'])\n",
    "Ms = rename(Ms,{'Superssn':'Ssn'})\n",
    "AM = project(natural_join(E, Ms), ['Lname', 'Fname', 'Ssn'])\n",
    "intersect(HD, AM)"
   ]
  },
  {
   "cell_type": "markdown",
   "metadata": {
    "id": "8Q8VibVS0qw5"
   },
   "source": [
    "### Query 9: Retrieve the last name, first name of all employees in department 5 who work more than 10 hours per week on the ProductX project."
   ]
  },
  {
   "cell_type": "code",
   "execution_count": 10,
   "metadata": {
    "ExecuteTime": {
     "end_time": "2022-10-20T06:45:49.468236Z",
     "start_time": "2022-10-20T06:45:49.452591Z"
    },
    "colab": {
     "base_uri": "https://localhost:8080/",
     "height": 106
    },
    "executionInfo": {
     "elapsed": 1659,
     "status": "ok",
     "timestamp": 1602780478340,
     "user": {
      "displayName": "김예은",
      "photoUrl": "",
      "userId": "10085060430319798632"
     },
     "user_tz": -540
    },
    "id": "IeGlqzoR0qw6",
    "outputId": "c527cd14-8116-4b37-bc8d-e0a9d1cb40c6"
   },
   "outputs": [
    {
     "data": {
      "text/html": [
       "<div>\n",
       "<style scoped>\n",
       "    .dataframe tbody tr th:only-of-type {\n",
       "        vertical-align: middle;\n",
       "    }\n",
       "\n",
       "    .dataframe tbody tr th {\n",
       "        vertical-align: top;\n",
       "    }\n",
       "\n",
       "    .dataframe thead th {\n",
       "        text-align: right;\n",
       "    }\n",
       "</style>\n",
       "<table border=\"1\" class=\"dataframe\">\n",
       "  <thead>\n",
       "    <tr style=\"text-align: right;\">\n",
       "      <th></th>\n",
       "      <th>Lname</th>\n",
       "      <th>Fname</th>\n",
       "    </tr>\n",
       "  </thead>\n",
       "  <tbody>\n",
       "    <tr>\n",
       "      <th>0</th>\n",
       "      <td>Smith</td>\n",
       "      <td>John</td>\n",
       "    </tr>\n",
       "    <tr>\n",
       "      <th>1</th>\n",
       "      <td>English</td>\n",
       "      <td>Joyce</td>\n",
       "    </tr>\n",
       "  </tbody>\n",
       "</table>\n",
       "</div>"
      ],
      "text/plain": [
       "     Lname  Fname\n",
       "0    Smith   John\n",
       "1  English  Joyce"
      ]
     },
     "execution_count": 10,
     "metadata": {},
     "output_type": "execute_result"
    }
   ],
   "source": [
    "# YOUR CODE HERE      10\n",
    "AE = project(select(E, \"Dno==5\"), ['Lname', 'Fname', 'Ssn'])\n",
    "PI = natural_join2(WO, P, ['Pno'], ['Pnumber'])\n",
    "IN = natural_join2(AE, PI, ['Ssn'], ['Essn'])\n",
    "project(select(IN, \"(Pname=='ProductX') & (Hours>10)\"), ['Lname', 'Fname'])"
   ]
  },
  {
   "cell_type": "code",
   "execution_count": null,
   "metadata": {
    "id": "pmBl0MnunIQg"
   },
   "outputs": [],
   "source": []
  },
  {
   "cell_type": "markdown",
   "metadata": {
    "id": "60RzTfOC0qxE"
   },
   "source": [
    "### Query 10: Retrieve the last name, first name of all employees who is supervised by James Borg"
   ]
  },
  {
   "cell_type": "code",
   "execution_count": 11,
   "metadata": {
    "ExecuteTime": {
     "end_time": "2022-10-20T06:45:49.481148Z",
     "start_time": "2022-10-20T06:45:49.469495Z"
    },
    "colab": {
     "base_uri": "https://localhost:8080/",
     "height": 106
    },
    "executionInfo": {
     "elapsed": 1639,
     "status": "ok",
     "timestamp": 1602780478341,
     "user": {
      "displayName": "김예은",
      "photoUrl": "",
      "userId": "10085060430319798632"
     },
     "user_tz": -540
    },
    "id": "dsUw5IWK0qxF",
    "outputId": "6612e8bd-5a13-4214-bad9-ea81b55fc825"
   },
   "outputs": [
    {
     "data": {
      "text/html": [
       "<div>\n",
       "<style scoped>\n",
       "    .dataframe tbody tr th:only-of-type {\n",
       "        vertical-align: middle;\n",
       "    }\n",
       "\n",
       "    .dataframe tbody tr th {\n",
       "        vertical-align: top;\n",
       "    }\n",
       "\n",
       "    .dataframe thead th {\n",
       "        text-align: right;\n",
       "    }\n",
       "</style>\n",
       "<table border=\"1\" class=\"dataframe\">\n",
       "  <thead>\n",
       "    <tr style=\"text-align: right;\">\n",
       "      <th></th>\n",
       "      <th>Lname</th>\n",
       "      <th>Fname</th>\n",
       "    </tr>\n",
       "  </thead>\n",
       "  <tbody>\n",
       "    <tr>\n",
       "      <th>0</th>\n",
       "      <td>Wong</td>\n",
       "      <td>Franklin</td>\n",
       "    </tr>\n",
       "    <tr>\n",
       "      <th>1</th>\n",
       "      <td>Wallace</td>\n",
       "      <td>Jennifer</td>\n",
       "    </tr>\n",
       "  </tbody>\n",
       "</table>\n",
       "</div>"
      ],
      "text/plain": [
       "     Lname     Fname\n",
       "0     Wong  Franklin\n",
       "1  Wallace  Jennifer"
      ]
     },
     "execution_count": 11,
     "metadata": {},
     "output_type": "execute_result"
    }
   ],
   "source": [
    "# YOUR CODE HERE      10\n",
    "JB = project(select(E, \"(Fname=='James') & (Lname=='Borg')\"), ['Ssn'])\n",
    "AE = project(natural_join2(JB, E, ['Ssn'], ['Superssn']), ['Lname', 'Fname'])\n",
    "AE"
   ]
  }
 ],
 "metadata": {
  "colab": {
   "collapsed_sections": [],
   "name": "김예은 - ch7_homework_RA-2020-student.ipynb",
   "provenance": []
  },
  "kernelspec": {
   "display_name": "Python 3",
   "language": "python",
   "name": "python3"
  },
  "language_info": {
   "codemirror_mode": {
    "name": "ipython",
    "version": 3
   },
   "file_extension": ".py",
   "mimetype": "text/x-python",
   "name": "python",
   "nbconvert_exporter": "python",
   "pygments_lexer": "ipython3",
   "version": "3.7.0"
  },
  "toc": {
   "base_numbering": 1,
   "nav_menu": {},
   "number_sections": true,
   "sideBar": true,
   "skip_h1_title": false,
   "title_cell": "Table of Contents",
   "title_sidebar": "Contents",
   "toc_cell": false,
   "toc_position": {},
   "toc_section_display": true,
   "toc_window_display": false
  },
  "varInspector": {
   "cols": {
    "lenName": 16,
    "lenType": 16,
    "lenVar": 40
   },
   "kernels_config": {
    "python": {
     "delete_cmd_postfix": "",
     "delete_cmd_prefix": "del ",
     "library": "var_list.py",
     "varRefreshCmd": "print(var_dic_list())"
    },
    "r": {
     "delete_cmd_postfix": ") ",
     "delete_cmd_prefix": "rm(",
     "library": "var_list.r",
     "varRefreshCmd": "cat(var_dic_list()) "
    }
   },
   "types_to_exclude": [
    "module",
    "function",
    "builtin_function_or_method",
    "instance",
    "_Feature"
   ],
   "window_display": false
  }
 },
 "nbformat": 4,
 "nbformat_minor": 1
}
